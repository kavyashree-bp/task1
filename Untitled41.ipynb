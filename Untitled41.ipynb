{
 "cells": [
  {
   "cell_type": "code",
   "execution_count": null,
   "id": "82cec71c",
   "metadata": {},
   "outputs": [],
   "source": [
    "from google_images_download import google_images_download\n",
    "\n",
    "def download_images(query, limit):\n",
    "    response = google_images_download.googleimagesdownload()\n",
    "\n",
    "    # Set the arguments for image search\n",
    "    arguments = {\n",
    "        'keywords': query,\n",
    "        'limit': limit,\n",
    "        'print_urls': False,\n",
    "        'no_directory': True,\n",
    "        'output_directory': 'downloaded_images',\n",
    "        'chromedriver': 'path/to/chromedriver'  # Replace with the path to your chromedriver executable\n",
    "    }\n",
    "\n",
    "    # Download the images\n",
    "    response.download(arguments)\n",
    "\n",
    "# Prompt the user for input\n",
    "person_name = input(\"Enter the name of the person: \")\n",
    "\n",
    "# Download 50 images of the specified person\n",
    "download_images(person_name, 50)"
   ]
  }
 ],
 "metadata": {
  "kernelspec": {
   "display_name": "Python 3 (ipykernel)",
   "language": "python",
   "name": "python3"
  },
  "language_info": {
   "codemirror_mode": {
    "name": "ipython",
    "version": 3
   },
   "file_extension": ".py",
   "mimetype": "text/x-python",
   "name": "python",
   "nbconvert_exporter": "python",
   "pygments_lexer": "ipython3",
   "version": "3.9.13"
  }
 },
 "nbformat": 4,
 "nbformat_minor": 5
}
